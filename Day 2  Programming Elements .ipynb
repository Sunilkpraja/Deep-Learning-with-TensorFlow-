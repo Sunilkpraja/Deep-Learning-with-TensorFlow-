{
 "cells": [
  {
   "cell_type": "markdown",
   "id": "37b95860",
   "metadata": {},
   "source": [
    "## Programming Elements \n"
   ]
  },
  {
   "cell_type": "markdown",
   "id": "f2d9786e",
   "metadata": {},
   "source": [
    "### 1] Constant :- \n",
    "- Create a constant tensor from a tensor-like object.\n",
    "     \n",
    "__Syntax : tf.constant()__\n",
    "\n",
    "__Note__ : Once we create tensor we can not change later. "
   ]
  },
  {
   "cell_type": "markdown",
   "id": "97a94878",
   "metadata": {},
   "source": [
    "### 2] Variable :- \n",
    "\n",
    " - Variables allow us to add new trainable parameters to the graph.\n",
    " \n",
    "__Syntax : tf.variable()__\n",
    "\n",
    "Note : Suppose we want to create tensor and if we want to change in future, then that time we have to use above syntax for variable creation. "
   ]
  },
  {
   "cell_type": "markdown",
   "id": "4f181990",
   "metadata": {},
   "source": [
    "### 3] Placeholder\n",
    "\n",
    "- Placeholder allow us to feed data to a Tensorflow model from outside a model.\n",
    "\n",
    "__Syntax : tf.placeholder()__\n",
    "\n",
    "Note: while creating tensor, at that time without adding any value in that perticular tensor. we can create tensor, only the think is that we have to mention data type. Suppose in future if we want to add value in that perticular tensor we can add values. Then whenever we want to use that tensor called Placeholder.  "
   ]
  },
  {
   "cell_type": "markdown",
   "id": "fa196ab8",
   "metadata": {},
   "source": [
    "### 4] Sparse Tensor\n",
    "\n",
    "- Sparse tensors enable efficient storge and processing of tensors that contain a lot of zero values. \n",
    "\n",
    "__Syntax : tf.SparseTensor()__\n",
    "\n",
    "Note: We have to create tensor that should contain maximum Zero, so that we can fullfill that operation."
   ]
  },
  {
   "cell_type": "code",
   "execution_count": null,
   "id": "d5136534",
   "metadata": {},
   "outputs": [],
   "source": []
  }
 ],
 "metadata": {
  "kernelspec": {
   "display_name": "Python 3 (ipykernel)",
   "language": "python",
   "name": "python3"
  },
  "language_info": {
   "codemirror_mode": {
    "name": "ipython",
    "version": 3
   },
   "file_extension": ".py",
   "mimetype": "text/x-python",
   "name": "python",
   "nbconvert_exporter": "python",
   "pygments_lexer": "ipython3",
   "version": "3.8.12"
  }
 },
 "nbformat": 4,
 "nbformat_minor": 5
}
