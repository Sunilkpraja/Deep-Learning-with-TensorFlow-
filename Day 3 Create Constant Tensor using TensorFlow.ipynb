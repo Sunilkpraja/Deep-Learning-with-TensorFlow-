{
 "cells": [
  {
   "cell_type": "markdown",
   "id": "8375bf7d",
   "metadata": {},
   "source": [
    " ### 1] Constant :- \n",
    "- Create a constant tensor from a tensor-like object.\n",
    "     \n",
    "__Syntax : tf.constant()__\n",
    "\n",
    "__Note__ : Once we create tensor we can not change later. "
   ]
  },
  {
   "cell_type": "markdown",
   "id": "4ec3f6d7",
   "metadata": {},
   "source": [
    "## How to create Constant variable in TensorFlow. "
   ]
  },
  {
   "cell_type": "markdown",
   "id": "5b4e79c0",
   "metadata": {},
   "source": [
    "__tf.constant():__\n",
    "    \n",
    "Create a constant tensor from a tensor-like object. \n",
    "\n",
    "Args\n",
    "Values    A constant value(or list) of output type dtype.\n",
    "dtype     The type of the elements of the resulting tensor.\n",
    "shape     Optional dimensions of reslting tensor. \n",
    "name      Optional name for the tensor.\n",
    "\n",
    "\n",
    "Returns\n",
    "A Constant Tensor.\n",
    "\n",
    "refernece link :https://www.tensorflow.org/api_docs/python/tf/constant"
   ]
  },
  {
   "cell_type": "markdown",
   "id": "ab911a58",
   "metadata": {},
   "source": [
    " ## Notes\n",
    " \n",
    " 1. tf.session() not in 2.x\n",
    " 2. Most of TensorFlow syntax same like NumPy\n",
    " 3. Use : While building neural network graph need constant variable like input data, it neer change while traning. "
   ]
  },
  {
   "cell_type": "code",
   "execution_count": 1,
   "id": "2fb07ffa",
   "metadata": {},
   "outputs": [],
   "source": [
    "# Import tensorflow\n",
    "\n",
    "import tensorflow as tf"
   ]
  },
  {
   "cell_type": "code",
   "execution_count": 2,
   "id": "6d07bc26",
   "metadata": {},
   "outputs": [
    {
     "data": {
      "text/plain": [
       "'2.6.0'"
      ]
     },
     "execution_count": 2,
     "metadata": {},
     "output_type": "execute_result"
    }
   ],
   "source": [
    "# checking Tensroflow version \n",
    "\n",
    "tf.__version__"
   ]
  },
  {
   "cell_type": "code",
   "execution_count": 3,
   "id": "b0f6d45f",
   "metadata": {},
   "outputs": [
    {
     "name": "stdout",
     "output_type": "stream",
     "text": [
      "WARNING:tensorflow:From C:\\Users\\sunil\\AppData\\Local\\Temp/ipykernel_15876/1139623176.py:3: is_gpu_available (from tensorflow.python.framework.test_util) is deprecated and will be removed in a future version.\n",
      "Instructions for updating:\n",
      "Use `tf.config.list_physical_devices('GPU')` instead.\n"
     ]
    },
    {
     "data": {
      "text/plain": [
       "True"
      ]
     },
     "execution_count": 3,
     "metadata": {},
     "output_type": "execute_result"
    }
   ],
   "source": [
    "# checking GPU Availability\n",
    "\n",
    "tf.test.is_gpu_available()"
   ]
  },
  {
   "cell_type": "code",
   "execution_count": 4,
   "id": "06ae250d",
   "metadata": {},
   "outputs": [],
   "source": [
    "# Create Integer Constant\n",
    "\n",
    "tft1 = tf.constant(15)"
   ]
  },
  {
   "cell_type": "code",
   "execution_count": 5,
   "id": "05228d7c",
   "metadata": {},
   "outputs": [
    {
     "data": {
      "text/plain": [
       "<tf.Tensor: shape=(), dtype=int32, numpy=15>"
      ]
     },
     "execution_count": 5,
     "metadata": {},
     "output_type": "execute_result"
    }
   ],
   "source": [
    "tft1"
   ]
  },
  {
   "cell_type": "code",
   "execution_count": 6,
   "id": "c90df47b",
   "metadata": {},
   "outputs": [],
   "source": [
    "# Create Flot Constant \n",
    "\n",
    "tft2 = tf.constant(120.1)"
   ]
  },
  {
   "cell_type": "code",
   "execution_count": 7,
   "id": "a3a4a17b",
   "metadata": {},
   "outputs": [
    {
     "data": {
      "text/plain": [
       "<tf.Tensor: shape=(), dtype=float32, numpy=120.1>"
      ]
     },
     "execution_count": 7,
     "metadata": {},
     "output_type": "execute_result"
    }
   ],
   "source": [
    "tft2"
   ]
  },
  {
   "cell_type": "code",
   "execution_count": 8,
   "id": "f49c383e",
   "metadata": {},
   "outputs": [],
   "source": [
    "# Create Sting constant\n",
    "\n",
    "tft3 = tf.constant('My name is Sunil and i love to code !')"
   ]
  },
  {
   "cell_type": "code",
   "execution_count": 9,
   "id": "e181d074",
   "metadata": {},
   "outputs": [
    {
     "data": {
      "text/plain": [
       "<tf.Tensor: shape=(), dtype=string, numpy=b'My name is Sunil and i love to code !'>"
      ]
     },
     "execution_count": 9,
     "metadata": {},
     "output_type": "execute_result"
    }
   ],
   "source": [
    "tft3"
   ]
  },
  {
   "cell_type": "markdown",
   "id": "b390f232",
   "metadata": {},
   "source": [
    "Here, b is denote byte string"
   ]
  },
  {
   "cell_type": "code",
   "execution_count": 10,
   "id": "580cbd55",
   "metadata": {},
   "outputs": [],
   "source": [
    "# Create boolean Constant\n",
    "\n",
    "tft4 = tf.constant(True)"
   ]
  },
  {
   "cell_type": "code",
   "execution_count": 11,
   "id": "c14f3d00",
   "metadata": {},
   "outputs": [
    {
     "data": {
      "text/plain": [
       "<tf.Tensor: shape=(), dtype=bool, numpy=True>"
      ]
     },
     "execution_count": 11,
     "metadata": {},
     "output_type": "execute_result"
    }
   ],
   "source": [
    "tft4"
   ]
  },
  {
   "cell_type": "code",
   "execution_count": 12,
   "id": "c6fbea5e",
   "metadata": {},
   "outputs": [],
   "source": [
    "# Create constant NumPy array/List/Tuple\n",
    "import numpy as np"
   ]
  },
  {
   "cell_type": "code",
   "execution_count": 13,
   "id": "6fd20bed",
   "metadata": {},
   "outputs": [],
   "source": [
    "np.array = tf.constant(np.array([1,2,3,4]))"
   ]
  },
  {
   "cell_type": "code",
   "execution_count": 14,
   "id": "a8b04ae7",
   "metadata": {},
   "outputs": [
    {
     "data": {
      "text/plain": [
       "<tf.Tensor: shape=(4,), dtype=int32, numpy=array([1, 2, 3, 4])>"
      ]
     },
     "execution_count": 14,
     "metadata": {},
     "output_type": "execute_result"
    }
   ],
   "source": [
    "np.array"
   ]
  },
  {
   "cell_type": "code",
   "execution_count": 15,
   "id": "ac58e220",
   "metadata": {},
   "outputs": [],
   "source": [
    "# Create 1D Constant\n",
    "t1d = tf.constant([1,2,3,4])"
   ]
  },
  {
   "cell_type": "code",
   "execution_count": 16,
   "id": "6cea7abe",
   "metadata": {},
   "outputs": [
    {
     "data": {
      "text/plain": [
       "<tf.Tensor: shape=(4,), dtype=int32, numpy=array([1, 2, 3, 4])>"
      ]
     },
     "execution_count": 16,
     "metadata": {},
     "output_type": "execute_result"
    }
   ],
   "source": [
    "t1d"
   ]
  },
  {
   "cell_type": "code",
   "execution_count": 17,
   "id": "e2f646a6",
   "metadata": {},
   "outputs": [],
   "source": [
    "# Create 1D Constant\n",
    "t2d = tf.constant([[1,3],[1,0]])"
   ]
  },
  {
   "cell_type": "code",
   "execution_count": 18,
   "id": "84557134",
   "metadata": {},
   "outputs": [
    {
     "data": {
      "text/plain": [
       "<tf.Tensor: shape=(2, 2), dtype=int32, numpy=\n",
       "array([[1, 3],\n",
       "       [1, 0]])>"
      ]
     },
     "execution_count": 18,
     "metadata": {},
     "output_type": "execute_result"
    }
   ],
   "source": [
    "t2d"
   ]
  },
  {
   "cell_type": "markdown",
   "id": "d63717b5",
   "metadata": {},
   "source": [
    "## Or"
   ]
  },
  {
   "cell_type": "code",
   "execution_count": 19,
   "id": "66dec2e8",
   "metadata": {},
   "outputs": [],
   "source": [
    "# Define Shape\n",
    "t2d_a = tf.constant([1,2,3,4], shape = (2,2))"
   ]
  },
  {
   "cell_type": "code",
   "execution_count": 20,
   "id": "86929d49",
   "metadata": {},
   "outputs": [
    {
     "data": {
      "text/plain": [
       "<tf.Tensor: shape=(2, 2), dtype=int32, numpy=\n",
       "array([[1, 2],\n",
       "       [3, 4]])>"
      ]
     },
     "execution_count": 20,
     "metadata": {},
     "output_type": "execute_result"
    }
   ],
   "source": [
    "t2d_a"
   ]
  },
  {
   "cell_type": "code",
   "execution_count": 21,
   "id": "2a31e434",
   "metadata": {},
   "outputs": [],
   "source": [
    "#Define data type\n",
    "t2d_b = tf.constant([1,2,3,4], shape = (2,2), dtype ='float32')"
   ]
  },
  {
   "cell_type": "code",
   "execution_count": 22,
   "id": "7cce5bca",
   "metadata": {},
   "outputs": [
    {
     "data": {
      "text/plain": [
       "<tf.Tensor: shape=(2, 2), dtype=float32, numpy=\n",
       "array([[1., 2.],\n",
       "       [3., 4.]], dtype=float32)>"
      ]
     },
     "execution_count": 22,
     "metadata": {},
     "output_type": "execute_result"
    }
   ],
   "source": [
    "t2d_b"
   ]
  },
  {
   "cell_type": "markdown",
   "id": "7b56f59b",
   "metadata": {},
   "source": [
    "#### Create N- dimension Constant\n",
    "\n"
   ]
  },
  {
   "cell_type": "code",
   "execution_count": 23,
   "id": "42d52ae2",
   "metadata": {},
   "outputs": [],
   "source": [
    "t3d = tf.constant([[1,3],[1,0],[0,8]])"
   ]
  },
  {
   "cell_type": "code",
   "execution_count": 24,
   "id": "f195935c",
   "metadata": {},
   "outputs": [
    {
     "data": {
      "text/plain": [
       "<tf.Tensor: shape=(3, 2), dtype=int32, numpy=\n",
       "array([[1, 3],\n",
       "       [1, 0],\n",
       "       [0, 8]])>"
      ]
     },
     "execution_count": 24,
     "metadata": {},
     "output_type": "execute_result"
    }
   ],
   "source": [
    "t3d"
   ]
  },
  {
   "cell_type": "markdown",
   "id": "79802b4c",
   "metadata": {},
   "source": [
    "## Or"
   ]
  },
  {
   "cell_type": "code",
   "execution_count": 28,
   "id": "f23f7993",
   "metadata": {},
   "outputs": [],
   "source": [
    "t3d_a = tf.constant([[1,3,1,0,0,8]], shape= (2,3))"
   ]
  },
  {
   "cell_type": "code",
   "execution_count": 29,
   "id": "74682309",
   "metadata": {},
   "outputs": [
    {
     "data": {
      "text/plain": [
       "<tf.Tensor: shape=(2, 3), dtype=int32, numpy=\n",
       "array([[1, 3, 1],\n",
       "       [0, 0, 8]])>"
      ]
     },
     "execution_count": 29,
     "metadata": {},
     "output_type": "execute_result"
    }
   ],
   "source": [
    "t3d_a"
   ]
  },
  {
   "cell_type": "code",
   "execution_count": 30,
   "id": "c9054f0e",
   "metadata": {},
   "outputs": [],
   "source": [
    "t3d_b = tf.constant([[1,3,1,0,0,8]], shape= (2,3), dtype = 'float')"
   ]
  },
  {
   "cell_type": "code",
   "execution_count": 31,
   "id": "1f0156db",
   "metadata": {},
   "outputs": [
    {
     "data": {
      "text/plain": [
       "<tf.Tensor: shape=(2, 3), dtype=float32, numpy=\n",
       "array([[1., 3., 1.],\n",
       "       [0., 0., 8.]], dtype=float32)>"
      ]
     },
     "execution_count": 31,
     "metadata": {},
     "output_type": "execute_result"
    }
   ],
   "source": [
    "t3d_b"
   ]
  },
  {
   "cell_type": "markdown",
   "id": "bab3df97",
   "metadata": {},
   "source": [
    "#### Type of constant"
   ]
  },
  {
   "cell_type": "code",
   "execution_count": 32,
   "id": "69781de4",
   "metadata": {},
   "outputs": [
    {
     "data": {
      "text/plain": [
       "tensorflow.python.framework.ops.EagerTensor"
      ]
     },
     "execution_count": 32,
     "metadata": {},
     "output_type": "execute_result"
    }
   ],
   "source": [
    "type(t3d_b)"
   ]
  },
  {
   "cell_type": "markdown",
   "id": "b5a2ca70",
   "metadata": {},
   "source": [
    "#### Shape of constant"
   ]
  },
  {
   "cell_type": "code",
   "execution_count": 33,
   "id": "816d0d8b",
   "metadata": {},
   "outputs": [
    {
     "data": {
      "text/plain": [
       "TensorShape([2, 3])"
      ]
     },
     "execution_count": 33,
     "metadata": {},
     "output_type": "execute_result"
    }
   ],
   "source": [
    "t3d_b.shape"
   ]
  },
  {
   "cell_type": "markdown",
   "id": "28e08df5",
   "metadata": {},
   "source": [
    "#### Access Constant Value"
   ]
  },
  {
   "cell_type": "code",
   "execution_count": 34,
   "id": "243d4fb6",
   "metadata": {},
   "outputs": [
    {
     "data": {
      "text/plain": [
       "array([[1., 3., 1.],\n",
       "       [0., 0., 8.]], dtype=float32)"
      ]
     },
     "execution_count": 34,
     "metadata": {},
     "output_type": "execute_result"
    }
   ],
   "source": [
    "t3d_b.numpy()"
   ]
  },
  {
   "cell_type": "markdown",
   "id": "65c177ec",
   "metadata": {},
   "source": [
    "#### Constant Dtype"
   ]
  },
  {
   "cell_type": "code",
   "execution_count": 38,
   "id": "ce74d07f",
   "metadata": {},
   "outputs": [
    {
     "data": {
      "text/plain": [
       "tf.float32"
      ]
     },
     "execution_count": 38,
     "metadata": {},
     "output_type": "execute_result"
    }
   ],
   "source": [
    "t3d_b.dtype"
   ]
  },
  {
   "cell_type": "code",
   "execution_count": null,
   "id": "25bab996",
   "metadata": {},
   "outputs": [],
   "source": []
  }
 ],
 "metadata": {
  "kernelspec": {
   "display_name": "Python 3 (ipykernel)",
   "language": "python",
   "name": "python3"
  },
  "language_info": {
   "codemirror_mode": {
    "name": "ipython",
    "version": 3
   },
   "file_extension": ".py",
   "mimetype": "text/x-python",
   "name": "python",
   "nbconvert_exporter": "python",
   "pygments_lexer": "ipython3",
   "version": "3.8.12"
  }
 },
 "nbformat": 4,
 "nbformat_minor": 5
}
