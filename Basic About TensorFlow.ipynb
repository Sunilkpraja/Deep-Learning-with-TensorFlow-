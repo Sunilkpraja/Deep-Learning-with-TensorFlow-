{
 "cells": [
  {
   "cell_type": "markdown",
   "id": "70ef26ce",
   "metadata": {},
   "source": [
    "##  What is TensorFlow ?\n",
    "\n",
    "- TensorFlow is the core open source library to help you develop and train Machine Learning/ Deep Learning models. \n",
    "\n",
    "- TensorFlow develop by Google Brain Team. \n",
    "- TensorFlow is written in python, c++, CUDA\n",
    "- Platform : Linux, macOS, Windows Android and JavaScript\n",
    "- Initial release : November 9, 2015 ; 5 years ago .\n"
   ]
  },
  {
   "cell_type": "markdown",
   "id": "6df49161",
   "metadata": {},
   "source": [
    "## What are the application of TensorFlow?\n",
    "\n",
    "- Face recognition(Computer Vision)\n",
    "- Self Driving Car\n",
    "- Alexa (by using NLP)\n",
    "- Robotics (Automation)"
   ]
  },
  {
   "cell_type": "markdown",
   "id": "4d2b01df",
   "metadata": {},
   "source": [
    "## Prerequisites/ Dependency for TensorFlow\n",
    "\n",
    "- Python\n",
    "- Pandas\n",
    "- NumPy\n",
    "- SciPY\n",
    "- Matlotlib\n",
    "- Seaborn\n",
    "- Math : Calculus, Vector, Matrix, Probabliity."
   ]
  },
  {
   "cell_type": "markdown",
   "id": "acf23c66",
   "metadata": {},
   "source": [
    "## Mathematical Foundation\n",
    "\n",
    "- __Scaler__ : \n",
    "    - Scalers are mathematical entites which have __only a magnitude__ (and no direction)\n",
    "    - Ex: Volume , density, speed, energy, mass, and time.\n",
    "  \n",
    "- __Vector__:\n",
    "  - An Array of numbers, which is either continuous or discrete, is defined as a vector. \n",
    "  - Ex: __Foce__ and __velocity__, have both __Magnitude and direction__ and are called vectors. \n",
    "  \n",
    "- __Matrix__ :\n",
    "  \n",
    "     - __Matrix__ can be defined as __multi-dimensional arrays__, which are arranged in the format of rows and columns. "
   ]
  },
  {
   "cell_type": "code",
   "execution_count": 1,
   "id": "b667022d",
   "metadata": {},
   "outputs": [
    {
     "data": {
      "text/html": [
       "<img src=\"Scaler,vector,matrix and tensor.png\" width=\"400\" height=\"400\"/>"
      ],
      "text/plain": [
       "<IPython.core.display.Image object>"
      ]
     },
     "execution_count": 1,
     "metadata": {},
     "output_type": "execute_result"
    }
   ],
   "source": [
    "from IPython.display import Image\n",
    "Image(url= \"Scaler,vector,matrix and tensor.png\", width=400, height=400)"
   ]
  },
  {
   "cell_type": "markdown",
   "id": "af75a8f7",
   "metadata": {},
   "source": [
    "## What is Tensor ?\n",
    "\n",
    "- A tensor is mathematical object\n",
    "- Tensor are defined as __Multuidimensional array or list__. \n",
    "- Tensors are identified by the following three parameters\n",
    "     - __Rank__ : It identified by the number of dimensions of the tensor\n",
    "          - Ex: Scaler, Vector , Matrix\n",
    "     - __Shape__ : number of rows and columns of Tensor\n",
    "     - __Type__ : Data Type assigned to Tensor's elements\n",
    "         - Ex: Integer, float , string , boolean. \n",
    "- Scaler, Array or vectors which are one-dimensional , or matrices, which are two-dimensiona but tensors can be more than three, four or five- dimensional. "
   ]
  },
  {
   "cell_type": "markdown",
   "id": "a03e8b3d",
   "metadata": {},
   "source": [
    "## What is Flow of TensorFlow ?\n",
    "- Flow :\n",
    "    - Graphical represenation of mathermatical operation\n",
    "    - Everything in TensorFlow is based on desigining a computational graph. \n",
    "    - The graph has a netowrk of nodes, with each node operating addition, multiplication , or evaluating some multivariate equation.\n",
    "      \n",
    "    - The code is wriiten to build the graph, create a session and execute that graph :-  "
   ]
  },
  {
   "cell_type": "code",
   "execution_count": 4,
   "id": "bae3fa1d",
   "metadata": {},
   "outputs": [
    {
     "data": {
      "text/html": [
       "<img src=\"flow of mathematics in tensorflow.png\" width=\"600\" height=\"400\"/>"
      ],
      "text/plain": [
       "<IPython.core.display.Image object>"
      ]
     },
     "execution_count": 4,
     "metadata": {},
     "output_type": "execute_result"
    }
   ],
   "source": [
    "from IPython.display import Image\n",
    "Image(url= \"flow of mathematics in tensorflow.png\", width=600, height=400)"
   ]
  },
  {
   "cell_type": "code",
   "execution_count": null,
   "id": "64504f60",
   "metadata": {},
   "outputs": [],
   "source": []
  }
 ],
 "metadata": {
  "kernelspec": {
   "display_name": "Python 3 (ipykernel)",
   "language": "python",
   "name": "python3"
  },
  "language_info": {
   "codemirror_mode": {
    "name": "ipython",
    "version": 3
   },
   "file_extension": ".py",
   "mimetype": "text/x-python",
   "name": "python",
   "nbconvert_exporter": "python",
   "pygments_lexer": "ipython3",
   "version": "3.8.12"
  }
 },
 "nbformat": 4,
 "nbformat_minor": 5
}
