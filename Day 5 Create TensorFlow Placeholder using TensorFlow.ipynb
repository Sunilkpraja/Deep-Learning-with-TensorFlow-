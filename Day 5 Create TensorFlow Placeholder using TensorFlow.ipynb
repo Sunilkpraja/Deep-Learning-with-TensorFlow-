{
 "cells": [
  {
   "cell_type": "markdown",
   "id": "f8b668f4",
   "metadata": {},
   "source": [
    "### Placeholder\n",
    "\n",
    "- Placeholder allow us to feed data to a Tensorflow model from outside a model.\n",
    "\n",
    "__Syntax : tf.placeholder()__\n",
    "\n",
    "Note: while creating tensor, at that time without adding any value in that perticular tensor. we can create tensor, only the think is that we have to mention data type. Suppose in future if we want to add value in that perticular tensor we can add values. Then whenever we want to use that tensor called Placeholder.  "
   ]
  },
  {
   "cell_type": "markdown",
   "id": "f47e74eb",
   "metadata": {},
   "source": [
    "## How to Create Placeholder in TensorFlow "
   ]
  },
  {
   "cell_type": "markdown",
   "id": "c4f43cab",
   "metadata": {},
   "source": [
    "__Important note__ : Placeholder variable is not present in Tensorflow 2.x version. It is present in Tensorflow 1.x.\n",
    "But we can use Placeholder into TensorFlow 2.x version."
   ]
  },
  {
   "cell_type": "markdown",
   "id": "f57107b1",
   "metadata": {},
   "source": [
    "#### How to Migrate your TensorFlow 1 code to TensorFlow 2"
   ]
  },
  {
   "cell_type": "markdown",
   "id": "43dfcba4",
   "metadata": {},
   "source": [
    "### Placeholder\n",
    "\n"
   ]
  },
  {
   "cell_type": "markdown",
   "id": "2e469309",
   "metadata": {},
   "source": [
    "A placeholder is simply a variable that we will assign data to at a later date. It allows us to create our operations and build our computation graph, without needing the data. "
   ]
  },
  {
   "cell_type": "raw",
   "id": "24943acb",
   "metadata": {},
   "source": [
    "Syntax: tf.compat.v1.placeholder(dtype, shape=None, name=None)"
   ]
  },
  {
   "cell_type": "code",
   "execution_count": 4,
   "id": "4c2bc44f",
   "metadata": {},
   "outputs": [],
   "source": [
    "# import tensroflow\n",
    "import tensorflow as tf"
   ]
  },
  {
   "cell_type": "code",
   "execution_count": 8,
   "id": "c3b7131f",
   "metadata": {},
   "outputs": [],
   "source": [
    "#Placeholder are not executable immeditely so we need to disable eager exicution in TensorFlow 2 nit in Tensorflow 1\n",
    "\n",
    "tf.compat.v1.disable_eager_execution()"
   ]
  },
  {
   "cell_type": "markdown",
   "id": "9254cd4f",
   "metadata": {},
   "source": [
    "## Create Placeholder"
   ]
  },
  {
   "cell_type": "code",
   "execution_count": 9,
   "id": "ef63f026",
   "metadata": {},
   "outputs": [],
   "source": [
    "#tf.placeholder(dtype=tf.float32, shape= (20,20))"
   ]
  },
  {
   "cell_type": "markdown",
   "id": "c0702d33",
   "metadata": {},
   "source": [
    "As we can see we are getting error because palceholder variable are not present in TensorFlow 2. For that we need to use above \"tf.compat.v1.disable_eager_execution()\" so that eager execution will disable and will not face above error."
   ]
  },
  {
   "cell_type": "code",
   "execution_count": 11,
   "id": "17ed17f4",
   "metadata": {},
   "outputs": [],
   "source": [
    "a= tf.compat.v1.placeholder(dtype=tf.float32, shape=(50,50))"
   ]
  },
  {
   "cell_type": "code",
   "execution_count": 12,
   "id": "602a0abf",
   "metadata": {},
   "outputs": [
    {
     "data": {
      "text/plain": [
       "<tf.Tensor 'Placeholder_1:0' shape=(50, 50) dtype=float32>"
      ]
     },
     "execution_count": 12,
     "metadata": {},
     "output_type": "execute_result"
    }
   ],
   "source": [
    "a"
   ]
  },
  {
   "cell_type": "code",
   "execution_count": 14,
   "id": "3fc21652",
   "metadata": {},
   "outputs": [
    {
     "data": {
      "text/plain": [
       "<tf.Tensor 'Placeholder_3:0' shape=(50, 50) dtype=float32>"
      ]
     },
     "execution_count": 14,
     "metadata": {},
     "output_type": "execute_result"
    }
   ],
   "source": [
    "b = tf.compat.v1.placeholder(dtype=tf.float32, shape=(50,50))\n",
    "b"
   ]
  },
  {
   "cell_type": "markdown",
   "id": "6b66d164",
   "metadata": {},
   "source": [
    "### Perform mathermatical opertation with Placeholder"
   ]
  },
  {
   "cell_type": "code",
   "execution_count": 18,
   "id": "92851f8b",
   "metadata": {},
   "outputs": [
    {
     "data": {
      "text/plain": [
       "<tf.Tensor 'Add_1:0' shape=(50, 50) dtype=float32>"
      ]
     },
     "execution_count": 18,
     "metadata": {},
     "output_type": "execute_result"
    }
   ],
   "source": [
    "c= tf.add(a,b)\n",
    "c"
   ]
  },
  {
   "cell_type": "code",
   "execution_count": 19,
   "id": "2d54edab",
   "metadata": {},
   "outputs": [],
   "source": [
    "# Create NumPy array\n",
    "import numpy as np"
   ]
  },
  {
   "cell_type": "code",
   "execution_count": 23,
   "id": "1e11b812",
   "metadata": {},
   "outputs": [
    {
     "data": {
      "text/plain": [
       "array([[1., 1., 1., ..., 1., 1., 1.],\n",
       "       [1., 1., 1., ..., 1., 1., 1.],\n",
       "       [1., 1., 1., ..., 1., 1., 1.],\n",
       "       ...,\n",
       "       [1., 1., 1., ..., 1., 1., 1.],\n",
       "       [1., 1., 1., ..., 1., 1., 1.],\n",
       "       [1., 1., 1., ..., 1., 1., 1.]], dtype=float32)"
      ]
     },
     "execution_count": 23,
     "metadata": {},
     "output_type": "execute_result"
    }
   ],
   "source": [
    "ones_array = np.ones((50,50), np.float32)\n",
    "ones_array"
   ]
  },
  {
   "cell_type": "markdown",
   "id": "be81c0cc",
   "metadata": {},
   "source": [
    "### Execute TensorFlow Placehodler using session\n",
    "\n",
    "Note :In TensorFlow 1 whatever we want to execute, we need session"
   ]
  },
  {
   "cell_type": "code",
   "execution_count": 25,
   "id": "f813cc9d",
   "metadata": {},
   "outputs": [],
   "source": [
    "with tf.compat.v1.Session() as sess:\n",
    "    d= sess.run(c, feed_dict = {a:ones_array, b:ones_array})"
   ]
  },
  {
   "cell_type": "code",
   "execution_count": 26,
   "id": "7323e03b",
   "metadata": {},
   "outputs": [
    {
     "data": {
      "text/plain": [
       "array([[2., 2., 2., ..., 2., 2., 2.],\n",
       "       [2., 2., 2., ..., 2., 2., 2.],\n",
       "       [2., 2., 2., ..., 2., 2., 2.],\n",
       "       ...,\n",
       "       [2., 2., 2., ..., 2., 2., 2.],\n",
       "       [2., 2., 2., ..., 2., 2., 2.],\n",
       "       [2., 2., 2., ..., 2., 2., 2.]], dtype=float32)"
      ]
     },
     "execution_count": 26,
     "metadata": {},
     "output_type": "execute_result"
    }
   ],
   "source": [
    "d"
   ]
  },
  {
   "cell_type": "code",
   "execution_count": 27,
   "id": "abdb170e",
   "metadata": {},
   "outputs": [
    {
     "data": {
      "text/plain": [
       "numpy.ndarray"
      ]
     },
     "execution_count": 27,
     "metadata": {},
     "output_type": "execute_result"
    }
   ],
   "source": [
    "type(d)"
   ]
  },
  {
   "cell_type": "code",
   "execution_count": null,
   "id": "e2c79b54",
   "metadata": {},
   "outputs": [],
   "source": []
  }
 ],
 "metadata": {
  "kernelspec": {
   "display_name": "Python 3 (ipykernel)",
   "language": "python",
   "name": "python3"
  },
  "language_info": {
   "codemirror_mode": {
    "name": "ipython",
    "version": 3
   },
   "file_extension": ".py",
   "mimetype": "text/x-python",
   "name": "python",
   "nbconvert_exporter": "python",
   "pygments_lexer": "ipython3",
   "version": "3.8.12"
  }
 },
 "nbformat": 4,
 "nbformat_minor": 5
}
